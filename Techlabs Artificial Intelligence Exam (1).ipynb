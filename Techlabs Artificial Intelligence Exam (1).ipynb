{
 "cells": [
  {
   "cell_type": "markdown",
   "metadata": {},
   "source": [
    "<img src=\"TechLabs.png\">"
   ]
  },
  {
   "cell_type": "markdown",
   "metadata": {},
   "source": [
    "<h2>Mathias Leys:</h2>"
   ]
  },
  {
   "cell_type": "markdown",
   "metadata": {},
   "source": [
    "\n",
    "<p> This exam will test your knowledge in Artificial Intelligence. </p>\n",
    "<p> We will test the following: </p>\n",
    "\n",
    "- Logistic Regressions\n",
    "- Neural Networks\n",
    "- Monte Carlo Simulation"
   ]
  },
  {
   "cell_type": "markdown",
   "metadata": {},
   "source": [
    "# Question 1:\n",
    "Below is the code to import a standard dataset with breast cancer.\n",
    "When you run the cell, you will have it stored as the object \"data\",\n",
    "and the description of the dataset is printed out for you.\n",
    "\n",
    "### Your task is to create two models for classifying the diagnosis, and compare the accuracy metrics for the two:\n",
    "### 1. a) Logistic Regression: \n",
    "\"sklearn.linear_model\" offers good logit classifiers. Because the dataset is fairly small (~500 rows), we suggest that you use the \"liblinear\" solver for fitting the logit classifier.\n",
    "\n",
    "Split the dataset into a test and training (30% test / 70% training) dataset and train the model on the training dataset. Then, classify the test dataset, and compute the accuracy, which you can print as an output.\n",
    "\n",
    "P.S.: We do not expect you to regularize for type 1 or type 2 errors. Your goal is to build models that classify well the diagnosis. Also, we do not expect you to spend hours on feature engineering and/or other things that may or may not improve testing accuracy. A good answer shall just contain a sensible model and the testing accuracy."
   ]
  },
  {
   "cell_type": "code",
   "execution_count": 1,
   "metadata": {},
   "outputs": [
    {
     "name": "stdout",
     "output_type": "stream",
     "text": [
      "(569, 30)\n"
     ]
    }
   ],
   "source": [
    "import numpy as np\n",
    "\n",
    "from sklearn import datasets\n",
    "data = datasets.load_breast_cancer()\n",
    "print(np.shape(data.data))"
   ]
  },
  {
   "cell_type": "code",
   "execution_count": 2,
   "metadata": {},
   "outputs": [
    {
     "name": "stdout",
     "output_type": "stream",
     "text": [
      ".. _breast_cancer_dataset:\n",
      "\n",
      "Breast cancer wisconsin (diagnostic) dataset\n",
      "--------------------------------------------\n",
      "\n",
      "**Data Set Characteristics:**\n",
      "\n",
      "    :Number of Instances: 569\n",
      "\n",
      "    :Number of Attributes: 30 numeric, predictive attributes and the class\n",
      "\n",
      "    :Attribute Information:\n",
      "        - radius (mean of distances from center to points on the perimeter)\n",
      "        - texture (standard deviation of gray-scale values)\n",
      "        - perimeter\n",
      "        - area\n",
      "        - smoothness (local variation in radius lengths)\n",
      "        - compactness (perimeter^2 / area - 1.0)\n",
      "        - concavity (severity of concave portions of the contour)\n",
      "        - concave points (number of concave portions of the contour)\n",
      "        - symmetry\n",
      "        - fractal dimension (\"coastline approximation\" - 1)\n",
      "\n",
      "        The mean, standard error, and \"worst\" or largest (mean of the three\n",
      "        worst/largest values) of these features were computed for each image,\n",
      "        resulting in 30 features.  For instance, field 0 is Mean Radius, field\n",
      "        10 is Radius SE, field 20 is Worst Radius.\n",
      "\n",
      "        - class:\n",
      "                - WDBC-Malignant\n",
      "                - WDBC-Benign\n",
      "\n",
      "    :Summary Statistics:\n",
      "\n",
      "    ===================================== ====== ======\n",
      "                                           Min    Max\n",
      "    ===================================== ====== ======\n",
      "    radius (mean):                        6.981  28.11\n",
      "    texture (mean):                       9.71   39.28\n",
      "    perimeter (mean):                     43.79  188.5\n",
      "    area (mean):                          143.5  2501.0\n",
      "    smoothness (mean):                    0.053  0.163\n",
      "    compactness (mean):                   0.019  0.345\n",
      "    concavity (mean):                     0.0    0.427\n",
      "    concave points (mean):                0.0    0.201\n",
      "    symmetry (mean):                      0.106  0.304\n",
      "    fractal dimension (mean):             0.05   0.097\n",
      "    radius (standard error):              0.112  2.873\n",
      "    texture (standard error):             0.36   4.885\n",
      "    perimeter (standard error):           0.757  21.98\n",
      "    area (standard error):                6.802  542.2\n",
      "    smoothness (standard error):          0.002  0.031\n",
      "    compactness (standard error):         0.002  0.135\n",
      "    concavity (standard error):           0.0    0.396\n",
      "    concave points (standard error):      0.0    0.053\n",
      "    symmetry (standard error):            0.008  0.079\n",
      "    fractal dimension (standard error):   0.001  0.03\n",
      "    radius (worst):                       7.93   36.04\n",
      "    texture (worst):                      12.02  49.54\n",
      "    perimeter (worst):                    50.41  251.2\n",
      "    area (worst):                         185.2  4254.0\n",
      "    smoothness (worst):                   0.071  0.223\n",
      "    compactness (worst):                  0.027  1.058\n",
      "    concavity (worst):                    0.0    1.252\n",
      "    concave points (worst):               0.0    0.291\n",
      "    symmetry (worst):                     0.156  0.664\n",
      "    fractal dimension (worst):            0.055  0.208\n",
      "    ===================================== ====== ======\n",
      "\n",
      "    :Missing Attribute Values: None\n",
      "\n",
      "    :Class Distribution: 212 - Malignant, 357 - Benign\n",
      "\n",
      "    :Creator:  Dr. William H. Wolberg, W. Nick Street, Olvi L. Mangasarian\n",
      "\n",
      "    :Donor: Nick Street\n",
      "\n",
      "    :Date: November, 1995\n",
      "\n",
      "This is a copy of UCI ML Breast Cancer Wisconsin (Diagnostic) datasets.\n",
      "https://goo.gl/U2Uwz2\n",
      "\n",
      "Features are computed from a digitized image of a fine needle\n",
      "aspirate (FNA) of a breast mass.  They describe\n",
      "characteristics of the cell nuclei present in the image.\n",
      "\n",
      "Separating plane described above was obtained using\n",
      "Multisurface Method-Tree (MSM-T) [K. P. Bennett, \"Decision Tree\n",
      "Construction Via Linear Programming.\" Proceedings of the 4th\n",
      "Midwest Artificial Intelligence and Cognitive Science Society,\n",
      "pp. 97-101, 1992], a classification method which uses linear\n",
      "programming to construct a decision tree.  Relevant features\n",
      "were selected using an exhaustive search in the space of 1-4\n",
      "features and 1-3 separating planes.\n",
      "\n",
      "The actual linear program used to obtain the separating plane\n",
      "in the 3-dimensional space is that described in:\n",
      "[K. P. Bennett and O. L. Mangasarian: \"Robust Linear\n",
      "Programming Discrimination of Two Linearly Inseparable Sets\",\n",
      "Optimization Methods and Software 1, 1992, 23-34].\n",
      "\n",
      "This database is also available through the UW CS ftp server:\n",
      "\n",
      "ftp ftp.cs.wisc.edu\n",
      "cd math-prog/cpo-dataset/machine-learn/WDBC/\n",
      "\n",
      ".. topic:: References\n",
      "\n",
      "   - W.N. Street, W.H. Wolberg and O.L. Mangasarian. Nuclear feature extraction \n",
      "     for breast tumor diagnosis. IS&T/SPIE 1993 International Symposium on \n",
      "     Electronic Imaging: Science and Technology, volume 1905, pages 861-870,\n",
      "     San Jose, CA, 1993.\n",
      "   - O.L. Mangasarian, W.N. Street and W.H. Wolberg. Breast cancer diagnosis and \n",
      "     prognosis via linear programming. Operations Research, 43(4), pages 570-577, \n",
      "     July-August 1995.\n",
      "   - W.H. Wolberg, W.N. Street, and O.L. Mangasarian. Machine learning techniques\n",
      "     to diagnose breast cancer from fine-needle aspirates. Cancer Letters 77 (1994) \n",
      "     163-171.\n"
     ]
    }
   ],
   "source": [
    "print(data.DESCR)"
   ]
  },
  {
   "cell_type": "code",
   "execution_count": 3,
   "metadata": {},
   "outputs": [],
   "source": [
    "from sklearn.linear_model import LogisticRegression\n",
    "from sklearn.model_selection import train_test_split\n",
    "from sklearn.preprocessing import StandardScaler"
   ]
  },
  {
   "cell_type": "code",
   "execution_count": 4,
   "metadata": {},
   "outputs": [],
   "source": [
    "seed = 123"
   ]
  },
  {
   "cell_type": "code",
   "execution_count": 5,
   "metadata": {},
   "outputs": [],
   "source": [
    "#70/30 train test split\n",
    "\n",
    "X_train, X_test, y_train, y_test = train_test_split(data['data'], data['target'], test_size=0.30,random_state=seed)"
   ]
  },
  {
   "cell_type": "code",
   "execution_count": 6,
   "metadata": {},
   "outputs": [],
   "source": [
    "#Standardizing features\n",
    "\n",
    "scaler = StandardScaler()\n",
    "scaler.fit(X_train)\n",
    "X_train = scaler.transform(X_train)\n",
    "X_test = scaler.transform(X_test)"
   ]
  },
  {
   "cell_type": "code",
   "execution_count": 7,
   "metadata": {},
   "outputs": [],
   "source": [
    "logit = LogisticRegression(solver='liblinear').fit(X=X_train, y=y_train)"
   ]
  },
  {
   "cell_type": "markdown",
   "metadata": {},
   "source": [
    "# Print the logit accuracy below:"
   ]
  },
  {
   "cell_type": "code",
   "execution_count": 8,
   "metadata": {},
   "outputs": [
    {
     "name": "stdout",
     "output_type": "stream",
     "text": [
      "\n",
      "testing set accuracy with logit is: 0.9941520467836257\n"
     ]
    }
   ],
   "source": [
    "logitacc = logit.score(X_test, y_test)\n",
    "print(f\"\\ntesting set accuracy with logit is: {logitacc}\")"
   ]
  },
  {
   "cell_type": "markdown",
   "metadata": {},
   "source": [
    "### 1. b) Feedforward Neural Network:\n",
    "So far, so good. Let's see how a feedforward neural network does for the same task.\n",
    "\n",
    "Take the same train/test split as in a), and construct the following neural network, which you fit to the data:"
   ]
  },
  {
   "cell_type": "code",
   "execution_count": 9,
   "metadata": {
    "jupyter": {
     "source_hidden": true
    }
   },
   "outputs": [
    {
     "data": {
      "text/plain": [
       "['Model: \"sequential_2\"',\n",
       " '_________________________________________________________________',\n",
       " 'Layer (type)                 Output Shape              Param #   ',\n",
       " '=================================================================',\n",
       " 'dense_5 (Dense)              (None, 30)                930       ',\n",
       " '_________________________________________________________________',\n",
       " 'dense_6 (Dense)              (None, 50)                1550      ',\n",
       " '_________________________________________________________________',\n",
       " 'dense_7 (Dense)              (None, 30)                1530      ',\n",
       " '_________________________________________________________________',\n",
       " 'dense_8 (Dense)              (None, 1)                 31        ',\n",
       " '=================================================================',\n",
       " 'Total params: 4,041',\n",
       " 'Trainable params: 4,041',\n",
       " 'Non-trainable params: 0',\n",
       " '_________________________________________________________________']"
      ]
     },
     "execution_count": 9,
     "metadata": {},
     "output_type": "execute_result"
    }
   ],
   "source": [
    "import pickle\n",
    "pickle.loads(b'\\x80\\x03]q\\x00(X\\x15\\x00\\x00\\x00Model: \"sequential_2\"q\\x01XA\\x00\\x00\\x00_________________________________________________________________q\\x02XA\\x00\\x00\\x00Layer (type)                 Output Shape              Param #   q\\x03XA\\x00\\x00\\x00=================================================================q\\x04XA\\x00\\x00\\x00dense_5 (Dense)              (None, 30)                930       q\\x05XA\\x00\\x00\\x00_________________________________________________________________q\\x06XA\\x00\\x00\\x00dense_6 (Dense)              (None, 50)                1550      q\\x07XA\\x00\\x00\\x00_________________________________________________________________q\\x08XA\\x00\\x00\\x00dense_7 (Dense)              (None, 30)                1530      q\\tXA\\x00\\x00\\x00_________________________________________________________________q\\nXA\\x00\\x00\\x00dense_8 (Dense)              (None, 1)                 31        q\\x0bXA\\x00\\x00\\x00=================================================================q\\x0cX\\x13\\x00\\x00\\x00Total params: 4,041q\\rX\\x17\\x00\\x00\\x00Trainable params: 4,041q\\x0eX\\x17\\x00\\x00\\x00Non-trainable params: 0q\\x0fXA\\x00\\x00\\x00_________________________________________________________________q\\x10e.')"
   ]
  },
  {
   "cell_type": "markdown",
   "metadata": {},
   "source": [
    "### You can use the library keras to contruct the ANN. Since we are dealing with a classification problem, we recommend binary_crossentropy as a loss function.\n",
    "Choose a reasonable batch size and epoch count and train the model.\n",
    "### Here again, print the testing dataset accuracy:"
   ]
  },
  {
   "cell_type": "code",
   "execution_count": 10,
   "metadata": {},
   "outputs": [],
   "source": [
    "import tensorflow as tf\n",
    "from tensorflow.keras.models import Model\n",
    "from tensorflow.keras.layers import Dense\n",
    "from sklearn.metrics import accuracy_score"
   ]
  },
  {
   "cell_type": "code",
   "execution_count": 11,
   "metadata": {},
   "outputs": [],
   "source": [
    "ANN = tf.keras.models.Sequential([\n",
    "    Dense(30, activation=\"relu\",input_dim=30),\n",
    "    Dense(50, activation=\"relu\"),\n",
    "    Dense(30, activation=\"relu\"),\n",
    "    Dense(1, activation=\"sigmoid\")\n",
    "])\n",
    "\n",
    "ANN.compile(optimizer='adam',\n",
    "              loss='binary_crossentropy',\n",
    "              metrics=['accuracy'])"
   ]
  },
  {
   "cell_type": "code",
   "execution_count": 12,
   "metadata": {
    "scrolled": true
   },
   "outputs": [
    {
     "name": "stdout",
     "output_type": "stream",
     "text": [
      "Epoch 1/50\n",
      "13/13 [==============================] - 0s 781us/step - loss: 0.5870 - accuracy: 0.7889\n",
      "Epoch 2/50\n",
      "13/13 [==============================] - 0s 850us/step - loss: 0.3962 - accuracy: 0.9171\n",
      "Epoch 3/50\n",
      "13/13 [==============================] - 0s 764us/step - loss: 0.2547 - accuracy: 0.9397\n",
      "Epoch 4/50\n",
      "13/13 [==============================] - 0s 891us/step - loss: 0.1739 - accuracy: 0.9497\n",
      "Epoch 5/50\n",
      "13/13 [==============================] - 0s 1ms/step - loss: 0.1267 - accuracy: 0.9573\n",
      "Epoch 6/50\n",
      "13/13 [==============================] - 0s 728us/step - loss: 0.0994 - accuracy: 0.9673\n",
      "Epoch 7/50\n",
      "13/13 [==============================] - 0s 708us/step - loss: 0.0849 - accuracy: 0.9774\n",
      "Epoch 8/50\n",
      "13/13 [==============================] - 0s 794us/step - loss: 0.0723 - accuracy: 0.9799\n",
      "Epoch 9/50\n",
      "13/13 [==============================] - 0s 835us/step - loss: 0.0645 - accuracy: 0.9799\n",
      "Epoch 10/50\n",
      "13/13 [==============================] - 0s 809us/step - loss: 0.0588 - accuracy: 0.9799\n",
      "Epoch 11/50\n",
      "13/13 [==============================] - 0s 738us/step - loss: 0.0535 - accuracy: 0.9824\n",
      "Epoch 12/50\n",
      "13/13 [==============================] - 0s 696us/step - loss: 0.0491 - accuracy: 0.9849\n",
      "Epoch 13/50\n",
      "13/13 [==============================] - 0s 839us/step - loss: 0.0464 - accuracy: 0.9824\n",
      "Epoch 14/50\n",
      "13/13 [==============================] - 0s 715us/step - loss: 0.0421 - accuracy: 0.9874\n",
      "Epoch 15/50\n",
      "13/13 [==============================] - 0s 626us/step - loss: 0.0389 - accuracy: 0.9899\n",
      "Epoch 16/50\n",
      "13/13 [==============================] - 0s 630us/step - loss: 0.0362 - accuracy: 0.9899\n",
      "Epoch 17/50\n",
      "13/13 [==============================] - 0s 620us/step - loss: 0.0336 - accuracy: 0.9899\n",
      "Epoch 18/50\n",
      "13/13 [==============================] - 0s 604us/step - loss: 0.0312 - accuracy: 0.9899\n",
      "Epoch 19/50\n",
      "13/13 [==============================] - 0s 589us/step - loss: 0.0289 - accuracy: 0.9899\n",
      "Epoch 20/50\n",
      "13/13 [==============================] - 0s 696us/step - loss: 0.0269 - accuracy: 0.9899\n",
      "Epoch 21/50\n",
      "13/13 [==============================] - 0s 573us/step - loss: 0.0254 - accuracy: 0.9925\n",
      "Epoch 22/50\n",
      "13/13 [==============================] - 0s 693us/step - loss: 0.0234 - accuracy: 0.9899\n",
      "Epoch 23/50\n",
      "13/13 [==============================] - 0s 689us/step - loss: 0.0208 - accuracy: 0.9899\n",
      "Epoch 24/50\n",
      "13/13 [==============================] - 0s 689us/step - loss: 0.0190 - accuracy: 0.9899\n",
      "Epoch 25/50\n",
      "13/13 [==============================] - 0s 884us/step - loss: 0.0175 - accuracy: 0.9950\n",
      "Epoch 26/50\n",
      "13/13 [==============================] - 0s 881us/step - loss: 0.0160 - accuracy: 0.9925\n",
      "Epoch 27/50\n",
      "13/13 [==============================] - 0s 672us/step - loss: 0.0144 - accuracy: 0.9950\n",
      "Epoch 28/50\n",
      "13/13 [==============================] - 0s 818us/step - loss: 0.0125 - accuracy: 0.9975\n",
      "Epoch 29/50\n",
      "13/13 [==============================] - 0s 624us/step - loss: 0.0124 - accuracy: 1.0000\n",
      "Epoch 30/50\n",
      "13/13 [==============================] - 0s 754us/step - loss: 0.0111 - accuracy: 1.0000\n",
      "Epoch 31/50\n",
      "13/13 [==============================] - 0s 764us/step - loss: 0.0094 - accuracy: 1.0000\n",
      "Epoch 32/50\n",
      "13/13 [==============================] - 0s 710us/step - loss: 0.0086 - accuracy: 1.0000\n",
      "Epoch 33/50\n",
      "13/13 [==============================] - 0s 803us/step - loss: 0.0074 - accuracy: 1.0000\n",
      "Epoch 34/50\n",
      "13/13 [==============================] - 0s 633us/step - loss: 0.0073 - accuracy: 1.0000\n",
      "Epoch 35/50\n",
      "13/13 [==============================] - 0s 621us/step - loss: 0.0075 - accuracy: 1.0000\n",
      "Epoch 36/50\n",
      "13/13 [==============================] - 0s 634us/step - loss: 0.0063 - accuracy: 1.0000\n",
      "Epoch 37/50\n",
      "13/13 [==============================] - 0s 689us/step - loss: 0.0051 - accuracy: 1.0000\n",
      "Epoch 38/50\n",
      "13/13 [==============================] - 0s 802us/step - loss: 0.0047 - accuracy: 1.0000\n",
      "Epoch 39/50\n",
      "13/13 [==============================] - 0s 754us/step - loss: 0.0043 - accuracy: 1.0000\n",
      "Epoch 40/50\n",
      "13/13 [==============================] - 0s 711us/step - loss: 0.0038 - accuracy: 1.0000\n",
      "Epoch 41/50\n",
      "13/13 [==============================] - 0s 561us/step - loss: 0.0038 - accuracy: 1.0000\n",
      "Epoch 42/50\n",
      "13/13 [==============================] - 0s 618us/step - loss: 0.0033 - accuracy: 1.0000\n",
      "Epoch 43/50\n",
      "13/13 [==============================] - 0s 808us/step - loss: 0.0030 - accuracy: 1.0000\n",
      "Epoch 44/50\n",
      "13/13 [==============================] - 0s 576us/step - loss: 0.0028 - accuracy: 1.0000\n",
      "Epoch 45/50\n",
      "13/13 [==============================] - 0s 591us/step - loss: 0.0026 - accuracy: 1.0000\n",
      "Epoch 46/50\n",
      "13/13 [==============================] - 0s 629us/step - loss: 0.0024 - accuracy: 1.0000\n",
      "Epoch 47/50\n",
      "13/13 [==============================] - 0s 610us/step - loss: 0.0022 - accuracy: 1.0000\n",
      "Epoch 48/50\n",
      "13/13 [==============================] - 0s 627us/step - loss: 0.0020 - accuracy: 1.0000\n",
      "Epoch 49/50\n",
      "13/13 [==============================] - 0s 602us/step - loss: 0.0019 - accuracy: 1.0000\n",
      "Epoch 50/50\n",
      "13/13 [==============================] - 0s 562us/step - loss: 0.0018 - accuracy: 1.0000\n"
     ]
    },
    {
     "data": {
      "text/plain": [
       "<tensorflow.python.keras.callbacks.History at 0x122f3d1b8b0>"
      ]
     },
     "execution_count": 12,
     "metadata": {},
     "output_type": "execute_result"
    }
   ],
   "source": [
    "ANN.fit(x=X_train, y=y_train, epochs=50, batch_size = 32, verbose=1)"
   ]
  },
  {
   "cell_type": "code",
   "execution_count": 13,
   "metadata": {},
   "outputs": [
    {
     "name": "stdout",
     "output_type": "stream",
     "text": [
      "Model: \"sequential\"\n",
      "_________________________________________________________________\n",
      "Layer (type)                 Output Shape              Param #   \n",
      "=================================================================\n",
      "dense (Dense)                (None, 30)                930       \n",
      "_________________________________________________________________\n",
      "dense_1 (Dense)              (None, 50)                1550      \n",
      "_________________________________________________________________\n",
      "dense_2 (Dense)              (None, 30)                1530      \n",
      "_________________________________________________________________\n",
      "dense_3 (Dense)              (None, 1)                 31        \n",
      "=================================================================\n",
      "Total params: 4,041\n",
      "Trainable params: 4,041\n",
      "Non-trainable params: 0\n",
      "_________________________________________________________________\n"
     ]
    }
   ],
   "source": [
    "ANN.summary()"
   ]
  },
  {
   "cell_type": "code",
   "execution_count": 14,
   "metadata": {},
   "outputs": [
    {
     "name": "stdout",
     "output_type": "stream",
     "text": [
      "WARNING:tensorflow:From <ipython-input-14-248ea292f2e3>:1: Sequential.predict_classes (from tensorflow.python.keras.engine.sequential) is deprecated and will be removed after 2021-01-01.\n",
      "Instructions for updating:\n",
      "Please use instead:* `np.argmax(model.predict(x), axis=-1)`,   if your model does multi-class classification   (e.g. if it uses a `softmax` last-layer activation).* `(model.predict(x) > 0.5).astype(\"int32\")`,   if your model does binary classification   (e.g. if it uses a `sigmoid` last-layer activation).\n"
     ]
    }
   ],
   "source": [
    "ANNpreds = ANN.predict_classes(x=X_test)"
   ]
  },
  {
   "cell_type": "code",
   "execution_count": 15,
   "metadata": {},
   "outputs": [
    {
     "name": "stdout",
     "output_type": "stream",
     "text": [
      "\n",
      "testing set accuracy with ANN is: 0.9707602339181286\n"
     ]
    }
   ],
   "source": [
    "ANNacc = accuracy_score(y_pred=ANNpreds, y_true=y_test)\n",
    "print(f\"\\ntesting set accuracy with ANN is: {ANNacc}\")"
   ]
  },
  {
   "cell_type": "markdown",
   "metadata": {},
   "source": [
    "### 1. c) Compare the performance of the neural net with the logit. Which one seems better at the job and why might that be?\n",
    "Please also comment on which model you would choose to implement in a case like this and why."
   ]
  },
  {
   "cell_type": "code",
   "execution_count": 16,
   "metadata": {},
   "outputs": [
    {
     "data": {
      "text/plain": [
       "'\\nThe logistic regression model had a better performance on the test set. \\nThis is because the neural network overfitted on the training set (its training accuracy is 100%). \\nThe logistic regression model did not suffer from the same overfitting problem because it is a much simpler model\\n\\n-> Because the logistic regression model had a better test set performance and test set performance is more representative of the real performance that the model would have in reality, I would implement the logistic regression model.\\nHowever, ideally we should try to avoid overfitting of the neural network by changing the network architecture or by applying regularization methods such as dropout because we would expect better performance from the neural network in this scenario.\\n'"
      ]
     },
     "execution_count": 16,
     "metadata": {},
     "output_type": "execute_result"
    }
   ],
   "source": [
    "'''\n",
    "The logistic regression model had a better performance on the test set. \n",
    "This is because the neural network overfitted on the training set (its training accuracy is 100%). \n",
    "The logistic regression model did not suffer from the same overfitting problem because it is a much simpler model\n",
    "\n",
    "-> Because the logistic regression model had a better test set performance and test set performance is more representative of the real performance that the model would have in reality, I would implement the logistic regression model.\n",
    "However, ideally we should try to avoid overfitting of the neural network by changing the network architecture or by applying regularization methods such as dropout because we would expect better performance from the neural network in this scenario.\n",
    "'''"
   ]
  },
  {
   "cell_type": "markdown",
   "metadata": {},
   "source": [
    "# Question 2:\n",
    "### Your coding skills have gained you a job as an options trader at a successful hedge fund! Congratulations!!\n",
    "\n",
    "At the first day, your boss comes to you and asks you, whether he should buy a _call option_* with a certain set of characteristics for 1€.\n",
    "\n",
    "    *A call option gives you the right (but not obligation) to buy a share for a certain strike price. In other words, if the stock price is higher than the strike price, you get the difference, otherwise, you get 0: \n",
    "    \n",
    "    callpayoff = max(stockprice - strikeprice, 0) \n",
    "\n",
    "To price the option, you shall build a monte-carlo simulator which generatates _1 000 000_ random walks, each representing the stock price in one year, which is when the option can be expired. By taking the average of these payouts, you will get the expected payout at expiry!\n",
    "\n",
    "Luckily, your boss has also given you the characteristics and hints for how the stock price moves: \n",
    "\n",
    "The stock price follows a student T distribution with 3 degrees of freedom (the rvs function within the t class from scipy.stats package is a great tool for creating random walks with this distribution: https://docs.scipy.org/doc/scipy/reference/generated/scipy.stats.t.html  ctrl+f \"rvs\") \n",
    "\n",
    "- The stock price today: 69\n",
    "- Stock returns follow student T distribution with 3 degrees of freedom\n",
    "- drift of 10% per year \n",
    "- volatility of 20%\n",
    "- strike price of the option is 96\n",
    "\n",
    "### Build a function that returns the price of the call option, and shows your boss what payout he can expect from the option in order to explain him, whether he should buy it or not.\n",
    "\n",
    "    P.S.: If you run into trouble on your way, you can always ask for tips from your boss and since he is a nice guy, he will also give a good grade for all attempts!"
   ]
  },
  {
   "cell_type": "code",
   "execution_count": 17,
   "metadata": {},
   "outputs": [],
   "source": [
    "stockprice = 69\n",
    "df = 3\n",
    "drift = 0.10\n",
    "vol = 0.20\n",
    "strikeprice = 96"
   ]
  },
  {
   "cell_type": "code",
   "execution_count": 18,
   "metadata": {},
   "outputs": [],
   "source": [
    "from scipy.stats import t\n",
    "from statistics import mean"
   ]
  },
  {
   "cell_type": "code",
   "execution_count": 20,
   "metadata": {},
   "outputs": [],
   "source": [
    "profits = []\n",
    "\n",
    "for _ in range(1000000):\n",
    "    tval = t.rvs(df)\n",
    "    stockprice1 = stockprice *(1+vol) * tval + drift*tval\n",
    "    profits.append(max((stockprice1-strikeprice),0) - 1)"
   ]
  },
  {
   "cell_type": "code",
   "execution_count": 21,
   "metadata": {},
   "outputs": [
    {
     "data": {
      "text/plain": [
       "14.871524700269298"
      ]
     },
     "execution_count": 21,
     "metadata": {},
     "output_type": "execute_result"
    }
   ],
   "source": [
    "exp_profit = mean(profits)\n",
    "exp_profit"
   ]
  },
  {
   "cell_type": "markdown",
   "metadata": {},
   "source": [
    "# Good luck!\n",
    "\n",
    "Don't forget: google, github and stack overflow are your best friends!\n"
   ]
  }
 ],
 "metadata": {
  "kernelspec": {
   "display_name": "Python 3",
   "language": "python",
   "name": "python3"
  },
  "language_info": {
   "codemirror_mode": {
    "name": "ipython",
    "version": 3
   },
   "file_extension": ".py",
   "mimetype": "text/x-python",
   "name": "python",
   "nbconvert_exporter": "python",
   "pygments_lexer": "ipython3",
   "version": "3.8.5"
  }
 },
 "nbformat": 4,
 "nbformat_minor": 4
}
